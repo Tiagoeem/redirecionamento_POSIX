{
  "nbformat": 4,
  "nbformat_minor": 0,
  "metadata": {
    "colab": {
      "name": "Aula2_CD_2021_emSala.ipynb",
      "provenance": [],
      "collapsed_sections": []
    },
    "kernelspec": {
      "name": "python3",
      "display_name": "Python 3"
    }
  },
  "cells": [
    {
      "cell_type": "markdown",
      "metadata": {
        "id": "Ni1e08pGmyOM"
      },
      "source": [
        "# Revisão Python"
      ]
    },
    {
      "cell_type": "code",
      "metadata": {
        "id": "NlHRsiLOmaIF"
      },
      "source": [
        "def funcao( idade=12, nome='Fulano' ):\r\n",
        "\r\n",
        "    texto = 'Olá {}, você tem {} anos.'.format(nome, idade)\r\n",
        "    print(texto)\r\n",
        "    if idade >= 18:\r\n",
        "        print('Pode ver hentai.')\r\n",
        "    else:\r\n",
        "        print('Não pode não!')\r\n"
      ],
      "execution_count": 15,
      "outputs": []
    },
    {
      "cell_type": "code",
      "metadata": {
        "colab": {
          "base_uri": "https://localhost:8080/"
        },
        "id": "MDhBrpf2xMJT",
        "outputId": "ac29405a-1f5f-4e36-9ca8-6594b6945897"
      },
      "source": [
        "funcao( nome='Carlos', idade=75 )"
      ],
      "execution_count": 17,
      "outputs": [
        {
          "output_type": "stream",
          "text": [
            "Olá Carlos, você tem 75 anos.\n",
            "Pode ver hentai.\n"
          ],
          "name": "stdout"
        }
      ]
    },
    {
      "cell_type": "code",
      "metadata": {
        "colab": {
          "base_uri": "https://localhost:8080/"
        },
        "id": "Y1ucWFldxe1q",
        "outputId": "e4c3a52d-ec2b-43b7-b378-6b28d7de24a9"
      },
      "source": [
        "funcao()"
      ],
      "execution_count": 18,
      "outputs": [
        {
          "output_type": "stream",
          "text": [
            "Olá Fulano, você tem 12 anos.\n",
            "Não pode não!\n"
          ],
          "name": "stdout"
        }
      ]
    },
    {
      "cell_type": "markdown",
      "metadata": {
        "id": "Wv5SJq9O2fYh"
      },
      "source": [
        "# Estruturas nativas de dados"
      ]
    },
    {
      "cell_type": "code",
      "metadata": {
        "colab": {
          "base_uri": "https://localhost:8080/"
        },
        "id": "qIEJEDkN2igT",
        "outputId": "f21ef5f4-c31b-4ba6-8e60-3adba258b9d3"
      },
      "source": [
        "#lista\r\n",
        "lista = [3,5,7,'Olá Mundo']\r\n",
        "print(lista)\r\n",
        "#tupla\r\n",
        "tupla1 = ('batata', 78)\r\n",
        "tupla2 = (45, 22)\r\n",
        "print(tupla2)\r\n",
        "#dict\r\n",
        "dicionario = { 'texto1': 45, 'texto2':'Outro texto' }\r\n",
        "#conjunto (set)\r\n",
        "conjunto1 = { 45, 25, 36 ,1, 28 }\r\n",
        "conjunto2 = {25, 1, 6}\r\n",
        "conjunto2"
      ],
      "execution_count": 28,
      "outputs": [
        {
          "output_type": "stream",
          "text": [
            "[3, 5, 7, 'Olá Mundo']\n",
            "(45, 22)\n"
          ],
          "name": "stdout"
        },
        {
          "output_type": "execute_result",
          "data": {
            "text/plain": [
              "{1, 6, 25}"
            ]
          },
          "metadata": {
            "tags": []
          },
          "execution_count": 28
        }
      ]
    },
    {
      "cell_type": "code",
      "metadata": {
        "colab": {
          "base_uri": "https://localhost:8080/"
        },
        "id": "5gUq4Q1q3Qkl",
        "outputId": "f7486d3a-f2c8-4d99-c2fe-ea82a79070f9"
      },
      "source": [
        "print(conjunto1.difference( conjunto2 ))"
      ],
      "execution_count": 27,
      "outputs": [
        {
          "output_type": "stream",
          "text": [
            "{28, 36, 45}\n"
          ],
          "name": "stdout"
        }
      ]
    },
    {
      "cell_type": "markdown",
      "metadata": {
        "id": "xwYKLMxz4T-d"
      },
      "source": [
        "# Pandas"
      ]
    },
    {
      "cell_type": "code",
      "metadata": {
        "id": "D_24Yhi63Wyk"
      },
      "source": [
        "import pandas as pd\r\n"
      ],
      "execution_count": 25,
      "outputs": []
    },
    {
      "cell_type": "code",
      "metadata": {
        "colab": {
          "base_uri": "https://localhost:8080/",
          "height": 402
        },
        "id": "Jh8dIibO43qb",
        "outputId": "3d25afd0-7604-4336-9e5b-e9b016adc390"
      },
      "source": [
        "df_games = pd.read_csv('/content/drive/MyDrive/Colab Notebooks/datasets/didaticos/video-games/vgsales_alt.csv')\r\n",
        "df_games"
      ],
      "execution_count": 36,
      "outputs": [
        {
          "output_type": "execute_result",
          "data": {
            "text/html": [
              "<div>\n",
              "<style scoped>\n",
              "    .dataframe tbody tr th:only-of-type {\n",
              "        vertical-align: middle;\n",
              "    }\n",
              "\n",
              "    .dataframe tbody tr th {\n",
              "        vertical-align: top;\n",
              "    }\n",
              "\n",
              "    .dataframe thead th {\n",
              "        text-align: right;\n",
              "    }\n",
              "</style>\n",
              "<table border=\"1\" class=\"dataframe\">\n",
              "  <thead>\n",
              "    <tr style=\"text-align: right;\">\n",
              "      <th></th>\n",
              "      <th>Name</th>\n",
              "      <th>Platform</th>\n",
              "      <th>Year</th>\n",
              "      <th>Genre</th>\n",
              "      <th>Publisher</th>\n",
              "      <th>NA_Sales</th>\n",
              "      <th>EU_Sales</th>\n",
              "      <th>JP_Sales</th>\n",
              "      <th>Global_Sales</th>\n",
              "    </tr>\n",
              "  </thead>\n",
              "  <tbody>\n",
              "    <tr>\n",
              "      <th>0</th>\n",
              "      <td>Imagine: Makeup Artist</td>\n",
              "      <td>DS</td>\n",
              "      <td>2020.0</td>\n",
              "      <td>Simulation</td>\n",
              "      <td>Ubisoft</td>\n",
              "      <td>0.27</td>\n",
              "      <td>0.00</td>\n",
              "      <td>0.00</td>\n",
              "      <td>0.29</td>\n",
              "    </tr>\n",
              "    <tr>\n",
              "      <th>1</th>\n",
              "      <td>Phantasy Star Online 2 Episode 4: Deluxe Package</td>\n",
              "      <td>PS4</td>\n",
              "      <td>2017.0</td>\n",
              "      <td>Role-Playing</td>\n",
              "      <td>Sega</td>\n",
              "      <td>0.00</td>\n",
              "      <td>0.00</td>\n",
              "      <td>0.03</td>\n",
              "      <td>0.03</td>\n",
              "    </tr>\n",
              "    <tr>\n",
              "      <th>2</th>\n",
              "      <td>Brothers Conflict: Precious Baby</td>\n",
              "      <td>PSV</td>\n",
              "      <td>2017.0</td>\n",
              "      <td>Action</td>\n",
              "      <td>Idea Factory</td>\n",
              "      <td>0.00</td>\n",
              "      <td>0.00</td>\n",
              "      <td>0.01</td>\n",
              "      <td>0.01</td>\n",
              "    </tr>\n",
              "    <tr>\n",
              "      <th>3</th>\n",
              "      <td>Phantasy Star Online 2 Episode 4: Deluxe Package</td>\n",
              "      <td>PSV</td>\n",
              "      <td>2017.0</td>\n",
              "      <td>Role-Playing</td>\n",
              "      <td>Sega</td>\n",
              "      <td>0.00</td>\n",
              "      <td>0.00</td>\n",
              "      <td>0.01</td>\n",
              "      <td>0.01</td>\n",
              "    </tr>\n",
              "    <tr>\n",
              "      <th>4</th>\n",
              "      <td>Hyakka Hyakurou: Sengoku Ninpoujou</td>\n",
              "      <td>PSV</td>\n",
              "      <td>2016.0</td>\n",
              "      <td>Adventure</td>\n",
              "      <td>D3Publisher</td>\n",
              "      <td>0.00</td>\n",
              "      <td>0.00</td>\n",
              "      <td>0.02</td>\n",
              "      <td>0.02</td>\n",
              "    </tr>\n",
              "    <tr>\n",
              "      <th>...</th>\n",
              "      <td>...</td>\n",
              "      <td>...</td>\n",
              "      <td>...</td>\n",
              "      <td>...</td>\n",
              "      <td>...</td>\n",
              "      <td>...</td>\n",
              "      <td>...</td>\n",
              "      <td>...</td>\n",
              "      <td>...</td>\n",
              "    </tr>\n",
              "    <tr>\n",
              "      <th>16593</th>\n",
              "      <td>Freaky Flyers</td>\n",
              "      <td>GC</td>\n",
              "      <td>NaN</td>\n",
              "      <td>Racing</td>\n",
              "      <td>Unknown</td>\n",
              "      <td>0.01</td>\n",
              "      <td>0.00</td>\n",
              "      <td>0.00</td>\n",
              "      <td>0.01</td>\n",
              "    </tr>\n",
              "    <tr>\n",
              "      <th>16594</th>\n",
              "      <td>Inversion</td>\n",
              "      <td>PC</td>\n",
              "      <td>NaN</td>\n",
              "      <td>Shooter</td>\n",
              "      <td>Namco Bandai Games</td>\n",
              "      <td>0.01</td>\n",
              "      <td>0.00</td>\n",
              "      <td>0.00</td>\n",
              "      <td>0.01</td>\n",
              "    </tr>\n",
              "    <tr>\n",
              "      <th>16595</th>\n",
              "      <td>Hakuouki: Shinsengumi Kitan</td>\n",
              "      <td>PS3</td>\n",
              "      <td>NaN</td>\n",
              "      <td>Adventure</td>\n",
              "      <td>Unknown</td>\n",
              "      <td>0.01</td>\n",
              "      <td>0.00</td>\n",
              "      <td>0.00</td>\n",
              "      <td>0.01</td>\n",
              "    </tr>\n",
              "    <tr>\n",
              "      <th>16596</th>\n",
              "      <td>Virtua Quest</td>\n",
              "      <td>GC</td>\n",
              "      <td>NaN</td>\n",
              "      <td>Role-Playing</td>\n",
              "      <td>Unknown</td>\n",
              "      <td>0.01</td>\n",
              "      <td>0.00</td>\n",
              "      <td>0.00</td>\n",
              "      <td>0.01</td>\n",
              "    </tr>\n",
              "    <tr>\n",
              "      <th>16597</th>\n",
              "      <td>The Smurfs</td>\n",
              "      <td>3DS</td>\n",
              "      <td>NaN</td>\n",
              "      <td>Action</td>\n",
              "      <td>Unknown</td>\n",
              "      <td>0.00</td>\n",
              "      <td>0.01</td>\n",
              "      <td>0.00</td>\n",
              "      <td>0.01</td>\n",
              "    </tr>\n",
              "  </tbody>\n",
              "</table>\n",
              "<p>16598 rows × 9 columns</p>\n",
              "</div>"
            ],
            "text/plain": [
              "                                                   Name  ... Global_Sales\n",
              "0                                Imagine: Makeup Artist  ...         0.29\n",
              "1      Phantasy Star Online 2 Episode 4: Deluxe Package  ...         0.03\n",
              "2                      Brothers Conflict: Precious Baby  ...         0.01\n",
              "3      Phantasy Star Online 2 Episode 4: Deluxe Package  ...         0.01\n",
              "4                    Hyakka Hyakurou: Sengoku Ninpoujou  ...         0.02\n",
              "...                                                 ...  ...          ...\n",
              "16593                                     Freaky Flyers  ...         0.01\n",
              "16594                                         Inversion  ...         0.01\n",
              "16595                       Hakuouki: Shinsengumi Kitan  ...         0.01\n",
              "16596                                      Virtua Quest  ...         0.01\n",
              "16597                                        The Smurfs  ...         0.01\n",
              "\n",
              "[16598 rows x 9 columns]"
            ]
          },
          "metadata": {
            "tags": []
          },
          "execution_count": 36
        }
      ]
    },
    {
      "cell_type": "code",
      "metadata": {
        "id": "AJIaDcCr893N"
      },
      "source": [
        ""
      ],
      "execution_count": null,
      "outputs": []
    }
  ]
}